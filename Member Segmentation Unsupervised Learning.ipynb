{
 "cells": [
  {
   "cell_type": "markdown",
   "metadata": {},
   "source": [
    "## Member Segmentation | Unsupervised Learning"
   ]
  },
  {
   "cell_type": "markdown",
   "metadata": {},
   "source": [
    "This notebook presents a simple demonstration of member segmentation task for an independent retail pharmacy's targeted marketing campaign. The key objective of this task is to group similar members together based on their previously purchased products at the store. Each segment tells a different story about customer values and needs."
   ]
  },
  {
   "cell_type": "markdown",
   "metadata": {},
   "source": [
    "### Experimental Data"
   ]
  },
  {
   "cell_type": "markdown",
   "metadata": {},
   "source": [
    "The dataset used contains mostly behavioral data of about 100 members, including their past transactional data. "
   ]
  },
  {
   "cell_type": "code",
   "execution_count": 98,
   "metadata": {},
   "outputs": [],
   "source": [
    "# Load libraries\n",
    "import pandas as pd\n",
    "from datetime import datetime\n",
    "import matplotlib.pyplot as plt  \n",
    "import numpy as np\n",
    "import seaborn as sns\n",
    "import random\n",
    "from sklearn.decomposition import PCA \n",
    "from sklearn.mixture import GaussianMixture   \n",
    "np.seterr(divide='ignore', invalid='ignore')\n",
    "%matplotlib inline "
   ]
  },
  {
   "cell_type": "code",
   "execution_count": 99,
   "metadata": {},
   "outputs": [],
   "source": [
    "# read data\n",
    "member_transactions = pd.read_csv('data/member_transactions.csv',header=0,skip_blank_lines=True) \n",
    "product_balance = pd.read_csv('data/product_balance.csv',header=0,skip_blank_lines=True)\n",
    "product_details = pd.read_csv('data/product_details.csv',header=0,skip_blank_lines=True)"
   ]
  },
  {
   "cell_type": "markdown",
   "metadata": {},
   "source": [
    "### Data Preprocessing"
   ]
  },
  {
   "cell_type": "code",
   "execution_count": 100,
   "metadata": {},
   "outputs": [],
   "source": [
    "member_transactions = member_transactions.dropna(0,\"all\")\n",
    "member_transactions = member_transactions.dropna(1,\"all\")\n",
    "\n",
    "member_cn_amt = member_transactions.loc[(member_transactions['INVOICE #'].str.startswith('CN')),'TOTAL SALES']\n",
    "member_transactions.loc[(member_transactions['INVOICE #'].str.startswith('CN')),'TOTAL SALES'] = member_cn_amt *(-1)\n",
    "member_transactions['DATE'] = member_transactions['DATE'].str.slice(0,10)\n",
    "member_transactions['DATE'] = pd.to_datetime(member_transactions['DATE'])\n",
    "\n",
    "member_transactions['MEMBER CODE'] = member_transactions['MEMBER CODE'].str.strip()\n",
    "member_transactions = member_transactions[~member_transactions['PRODUCT CODE'].str.startswith('M-POI')]\n",
    "\n",
    "member_product = member_transactions[['MEMBER CODE','DESCRIPTION']]\n",
    "member_product = pd.get_dummies(member_product, columns=[\"DESCRIPTION\"])\n",
    "member_product = member_product.groupby('MEMBER CODE').sum()\n",
    "member_product = member_product.rename(columns = lambda x : str(x)[12:])\n",
    "\n",
    "categories_dict = pd.Series(product_details['Group'].values,index=product_details['Product Code']).to_dict()\n",
    "brands_dict = pd.Series(product_details['Brand'].values,index=product_details['Product Code']).to_dict()\n",
    "member_transactions['Category'] = member_transactions['PRODUCT CODE'].map(categories_dict)\n",
    "member_transactions['Brand'] = member_transactions['PRODUCT CODE'].map(brands_dict)\n",
    "\n",
    "product_balance = product_balance.dropna(0,'all')\n",
    "product_details = product_details.dropna(0,'all')"
   ]
  },
  {
   "cell_type": "markdown",
   "metadata": {},
   "source": [
    "#### Create dummy variables"
   ]
  },
  {
   "cell_type": "code",
   "execution_count": 101,
   "metadata": {},
   "outputs": [],
   "source": [
    "member_cat = member_transactions[['MEMBER CODE','Category']]\n",
    "member_cat = pd.get_dummies(member_cat, columns=[\"Category\"],dummy_na=False)\n",
    "member_cat = member_cat.groupby('MEMBER CODE').sum()\n",
    "member_cat = member_cat.rename(columns = lambda x : str(x)[9:])\n",
    "\n",
    "member_brand = member_transactions[['MEMBER CODE','Brand']]\n",
    "member_brand = pd.get_dummies(member_brand, columns=[\"Brand\"],dummy_na=False)\n",
    "member_brand = member_brand.groupby('MEMBER CODE').sum()\n",
    "member_brand = member_brand.rename(columns = lambda x : str(x)[6:])\n",
    "\n",
    "member_trans = member_product.join(member_cat)\n",
    "member_trans = member_trans.join(member_brand)"
   ]
  },
  {
   "cell_type": "code",
   "execution_count": 102,
   "metadata": {},
   "outputs": [
    {
     "data": {
      "text/plain": [
       "(111, 851)"
      ]
     },
     "execution_count": 102,
     "metadata": {},
     "output_type": "execute_result"
    }
   ],
   "source": [
    "member_trans.shape"
   ]
  },
  {
   "cell_type": "markdown",
   "metadata": {},
   "source": [
    "A sample of the resultant dataset looks like:"
   ]
  },
  {
   "cell_type": "markdown",
   "metadata": {},
   "source": [
    "![](https://s3-ap-southeast-1.amazonaws.com/mhlee2907/data_sample.PNG)"
   ]
  },
  {
   "cell_type": "markdown",
   "metadata": {},
   "source": [
    "### Reduce dimension of data"
   ]
  },
  {
   "cell_type": "markdown",
   "metadata": {},
   "source": [
    "Reduce the data dimension for better performance since we have 800+ columns."
   ]
  },
  {
   "cell_type": "code",
   "execution_count": 103,
   "metadata": {},
   "outputs": [
    {
     "data": {
      "text/plain": [
       "array([[ 3.92625140e+00,  1.43855627e+00],\n",
       "       [ 5.89954434e+00,  4.13068582e+00],\n",
       "       [-2.80879107e+00, -2.66062871e+00],\n",
       "       [-2.35217768e+00, -3.34360690e+00],\n",
       "       [-4.33648569e+00, -1.31226030e+00],\n",
       "       [-6.51171243e+00, -4.76984265e-01],\n",
       "       [-3.29003457e+00,  5.89450986e-01],\n",
       "       [-5.91727986e+00, -8.42672791e-02],\n",
       "       [-7.05301348e+00, -1.01824073e+00],\n",
       "       [-5.52919807e+00, -1.84739436e+00],\n",
       "       [-3.89539667e+00, -9.58611303e-02],\n",
       "       [ 3.55762349e+00,  7.55200747e-01],\n",
       "       [-5.29644092e+00, -1.79362928e+00],\n",
       "       [ 8.30136774e-01,  3.74213721e+00],\n",
       "       [ 1.19981443e+00, -3.28799876e+00],\n",
       "       [-2.85482401e+00,  4.14630071e+00],\n",
       "       [-3.12376799e+00, -1.10820926e+00],\n",
       "       [-4.71881919e+00, -2.18867502e+00],\n",
       "       [-6.03516521e+00, -1.54596687e+00],\n",
       "       [-1.99841128e+00, -5.55976051e-01],\n",
       "       [ 1.39524344e+01, -3.33742885e-01],\n",
       "       [-6.86404598e+00, -8.87462056e-01],\n",
       "       [ 6.00308507e+00,  2.79778012e+00],\n",
       "       [-6.85061293e+00, -9.96497376e-01],\n",
       "       [-4.81829668e+00, -1.31255754e+00],\n",
       "       [-6.34118643e+00, -1.43999965e+00],\n",
       "       [-8.41341806e-01, -4.46936485e+00],\n",
       "       [-6.89606017e+00, -9.59052668e-01],\n",
       "       [-6.25504369e+00, -1.57231741e+00],\n",
       "       [-3.20369807e+00,  4.42894058e+00],\n",
       "       [-2.30056345e+00, -2.83147120e-01],\n",
       "       [-5.89443212e+00,  1.87059773e-01],\n",
       "       [-3.86828694e+00, -1.48392178e+00],\n",
       "       [-4.92712738e+00,  1.79836007e+00],\n",
       "       [ 2.76295624e+00,  2.71760323e+00],\n",
       "       [ 1.51757205e+01, -4.09376342e+00],\n",
       "       [-4.59941764e+00, -2.44876663e+00],\n",
       "       [-2.96549284e+00, -2.95353352e+00],\n",
       "       [-7.10988134e+00, -1.05743201e+00],\n",
       "       [-4.57577571e+00, -2.35651987e+00],\n",
       "       [-5.99860876e+00, -1.47167068e+00],\n",
       "       [ 3.41337715e+00, -5.34900028e+00],\n",
       "       [-6.15146511e-01, -1.48345878e+00],\n",
       "       [-4.38448394e+00, -2.55993008e-01],\n",
       "       [-3.20593951e+00, -1.95056553e+00],\n",
       "       [-1.80958578e+00,  1.11530029e+00],\n",
       "       [ 3.36609610e-01, -4.22075936e+00],\n",
       "       [-8.47807633e-01, -3.69046815e+00],\n",
       "       [-5.38122490e+00,  7.74929573e-01],\n",
       "       [-6.75439180e+00, -5.10471629e-01],\n",
       "       [-2.49958735e+00,  5.58152356e+00],\n",
       "       [ 1.56401321e+01, -4.49700476e+00],\n",
       "       [-8.72041502e-01,  7.45022051e-01],\n",
       "       [-6.71265361e+00, -8.92727727e-01],\n",
       "       [-6.18264285e+00, -1.31425848e+00],\n",
       "       [-2.81258164e+00, -3.13990903e+00],\n",
       "       [ 2.83767349e+01,  1.25221713e+01],\n",
       "       [-5.41965670e+00, -6.68077775e-01],\n",
       "       [-6.92603789e+00, -8.03780751e-01],\n",
       "       [-4.28800038e+00, -1.69144217e+00],\n",
       "       [-3.04527770e+00, -1.81890150e+00],\n",
       "       [ 2.64830892e+01,  7.01086397e+00],\n",
       "       [-1.03365039e+00, -5.58232877e-02],\n",
       "       [-5.57000462e+00, -4.41803714e-01],\n",
       "       [-4.67033527e+00,  5.24200141e-01],\n",
       "       [-5.66206560e+00, -1.51330630e+00],\n",
       "       [-6.85659822e+00, -1.05995569e+00],\n",
       "       [-2.24680052e+00, -3.76288325e+00],\n",
       "       [-6.41863061e+00, -1.22951371e+00],\n",
       "       [-1.77104082e+00, -6.98157797e-01],\n",
       "       [-1.88648634e+00, -1.50926581e+00],\n",
       "       [-6.03664604e+00,  2.32636375e-01],\n",
       "       [-3.89748726e+00, -5.83722349e-01],\n",
       "       [-2.96725802e+00, -2.40917015e+00],\n",
       "       [ 6.21579072e+00,  1.04218392e+01],\n",
       "       [-4.14112247e+00, -1.54024183e+00],\n",
       "       [-6.27209472e+00, -1.52312625e+00],\n",
       "       [ 1.48991968e+02, -3.61487012e+01],\n",
       "       [ 7.10031023e-01,  2.24542183e+00],\n",
       "       [ 1.14251150e+01,  7.77155094e-01],\n",
       "       [-2.71143626e+00,  2.13751208e+00],\n",
       "       [-3.75117742e+00,  3.72239454e-01],\n",
       "       [-3.09375069e+00, -3.41403478e+00],\n",
       "       [-3.58626405e-01,  4.19350461e-01],\n",
       "       [-7.57097971e-01, -6.17834233e-02],\n",
       "       [-5.18167798e+00, -8.00708443e-02],\n",
       "       [-1.56517810e+00,  1.14448813e-01],\n",
       "       [-6.43896489e+00, -2.84143932e-01],\n",
       "       [-4.41297468e+00, -1.48533236e+00],\n",
       "       [-6.28065050e+00,  2.35420376e-02],\n",
       "       [ 2.31802896e+01,  1.78376355e+01],\n",
       "       [-3.75639687e+00,  3.65499648e-01],\n",
       "       [ 2.59355499e+00, -3.50772928e+00],\n",
       "       [-3.03387280e+00, -1.50841333e+00],\n",
       "       [-6.25504369e+00, -1.57231741e+00],\n",
       "       [ 1.10134279e+00, -1.52007204e+00],\n",
       "       [-4.67502078e+00, -6.88533524e-01],\n",
       "       [-5.48030738e+00,  1.14447394e+00],\n",
       "       [-1.19828361e+00, -3.78686514e+00],\n",
       "       [-3.70521540e+00,  3.66911872e-01],\n",
       "       [-6.80753527e+00, -8.43446752e-01],\n",
       "       [-5.39914389e+00, -1.80600737e+00],\n",
       "       [ 6.09052410e+01,  6.79865435e+01],\n",
       "       [-2.86737652e+00, -2.88265666e+00],\n",
       "       [-3.76963980e+00,  3.82148180e-01],\n",
       "       [-7.10926646e+00, -1.06058994e+00],\n",
       "       [-7.03273199e+00, -1.02439128e+00],\n",
       "       [ 1.87032927e+00,  3.17298414e+00],\n",
       "       [-6.36871539e+00, -1.46465836e+00],\n",
       "       [-5.15279959e+00, -1.23234028e+00],\n",
       "       [-6.16961713e+00, -5.81103193e-01]])"
      ]
     },
     "execution_count": 103,
     "metadata": {},
     "output_type": "execute_result"
    }
   ],
   "source": [
    "# Transform the data to two dimensions\n",
    "pca = PCA(n_components=2)             \n",
    "pca.fit(member_trans)                      \n",
    "member_pca = pca.transform(member_trans)         \n",
    "member_pca"
   ]
  },
  {
   "cell_type": "code",
   "execution_count": 19,
   "metadata": {},
   "outputs": [
    {
     "data": {
      "text/plain": [
       "(111, 2)"
      ]
     },
     "execution_count": 19,
     "metadata": {},
     "output_type": "execute_result"
    }
   ],
   "source": [
    "member_pca.shape"
   ]
  },
  {
   "cell_type": "markdown",
   "metadata": {},
   "source": [
    "### Gaussian Mixture Clustering"
   ]
  },
  {
   "cell_type": "code",
   "execution_count": 128,
   "metadata": {},
   "outputs": [
    {
     "data": {
      "text/plain": [
       "array([4, 4, 0, 4, 0, 0, 0, 0, 0, 0, 0, 4, 0, 4, 4, 4, 0, 0, 0, 0, 5, 0,\n",
       "       4, 0, 0, 0, 4, 0, 0, 4, 0, 0, 0, 4, 4, 5, 0, 0, 0, 0, 0, 4, 4, 0,\n",
       "       0, 4, 4, 4, 0, 0, 4, 5, 4, 0, 0, 0, 3, 0, 0, 0, 0, 3, 4, 0, 0, 0,\n",
       "       0, 4, 0, 4, 0, 0, 0, 0, 4, 0, 0, 1, 4, 5, 4, 0, 0, 4, 4, 0, 4, 0,\n",
       "       0, 0, 3, 0, 4, 0, 0, 4, 0, 0, 4, 0, 0, 0, 2, 0, 0, 0, 0, 4, 0, 0,\n",
       "       0], dtype=int64)"
      ]
     },
     "execution_count": 128,
     "metadata": {},
     "output_type": "execute_result"
    }
   ],
   "source": [
    "# cluster members into 6 segments\n",
    "model = GaussianMixture(n_components = 6,\n",
    "            covariance_type='full',random_state =123)           \n",
    "model.fit(member_pca)                            \n",
    "y = model.predict(member_pca)\n",
    "y"
   ]
  },
  {
   "cell_type": "code",
   "execution_count": 129,
   "metadata": {},
   "outputs": [],
   "source": [
    "member_trans['cluster'] = y\n",
    "member_pca_df = pd.DataFrame(member_pca,columns = ['PCA 1','PCA 2'])\n",
    "member_pca_df['cluster'] = y\n",
    "member_pca_df['cluster'] = member_pca_df['cluster'].astype('category')\n",
    "\n",
    "# remove outliers\n",
    "member_pca_df = member_pca_df[member_pca_df['PCA 1'] < 60]"
   ]
  },
  {
   "cell_type": "markdown",
   "metadata": {},
   "source": [
    "#### Plotting the segments"
   ]
  },
  {
   "cell_type": "code",
   "execution_count": 132,
   "metadata": {},
   "outputs": [
    {
     "data": {
      "image/png": "[encoded data removed]",
      "text/plain": [
       "<Figure size 720x504 with 1 Axes>"
      ]
     },
     "metadata": {},
     "output_type": "display_data"
    }
   ],
   "source": [
    "plt.figure(figsize=(10, 7))\n",
    "sns.set()\n",
    "\n",
    "palette = ['#a3cc61','#38afa7','#8a6da3','#bf466c','#d1aa0e','#4c729b']\n",
    "ax = sns.scatterplot(x=\"PCA 2\", y=\"PCA 1\", hue=\"cluster\", data=member_pca_df,marker=\"h\",s=100,legend=False,palette = palette)"
   ]
  }
 ],
 "metadata": {
  "kernelspec": {
   "display_name": "Python 3",
   "language": "python",
   "name": "python3"
  },
  "language_info": {
   "codemirror_mode": {
    "name": "ipython",
    "version": 3
   },
   "file_extension": ".py",
   "mimetype": "text/x-python",
   "name": "python",
   "nbconvert_exporter": "python",
   "pygments_lexer": "ipython3",
   "version": "3.7.0"
  }
 },
 "nbformat": 4,
 "nbformat_minor": 2
}
